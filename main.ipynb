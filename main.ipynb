{
 "cells": [
  {
   "cell_type": "code",
   "execution_count": 2,
   "metadata": {},
   "outputs": [],
   "source": [
    "import pandas as pd"
   ]
  },
  {
   "cell_type": "markdown",
   "metadata": {},
   "source": [
    "představení tématu"
   ]
  },
  {
   "cell_type": "code",
   "execution_count": null,
   "metadata": {},
   "outputs": [],
   "source": []
  },
  {
   "cell_type": "markdown",
   "metadata": {},
   "source": [
    "sběr dat"
   ]
  },
  {
   "cell_type": "code",
   "execution_count": null,
   "metadata": {},
   "outputs": [],
   "source": []
  },
  {
   "cell_type": "markdown",
   "metadata": {},
   "source": [
    "**Zpracování dat**"
   ]
  },
  {
   "cell_type": "code",
   "execution_count": 16,
   "metadata": {},
   "outputs": [],
   "source": [
    "\n",
    "#>> načtení dat z excel tabulek\n",
    "df_zitomirska = pd.read_excel(\"SOČ data/Žitomírská, jižní veřejné osvětlení 001185, 200 cm.xlsx\", skiprows = [0])\n",
    "df_zitomirska = df_zitomirska[df_zitomirska['avg_temp'] != 0.0]\n",
    "\n",
    "#>> čisťení dat - odebrání všech řad kde je chybné měření teploty(avg_temp = 0.0)\n",
    "def clean_data(df):\n",
    "    df = df[df['avg_temp'] != 0.0]\n",
    "\n",
    "#TODO\n",
    "#>> vytvoření dataframu všech ulic a jejich vlastností a průměrných teplotách, vlhkosti...\n",
    "#>> korelace a grafy vlastností a avg teploty, vlhkosti...\n",
    "#namet v google dokumentu: https://docs.google.com/document/d/1-hWSGdUqz0OBOo5BhIRc6w_VmslaZa5UAgW7VCqsCvs/edit"
   ]
  },
  {
   "cell_type": "markdown",
   "metadata": {},
   "source": [
    "analýza"
   ]
  },
  {
   "cell_type": "code",
   "execution_count": null,
   "metadata": {},
   "outputs": [],
   "source": []
  },
  {
   "cell_type": "markdown",
   "metadata": {},
   "source": [
    "modelování"
   ]
  },
  {
   "cell_type": "code",
   "execution_count": null,
   "metadata": {},
   "outputs": [],
   "source": []
  },
  {
   "cell_type": "markdown",
   "metadata": {},
   "source": [
    "příklad designu podle mých modelů"
   ]
  },
  {
   "cell_type": "code",
   "execution_count": null,
   "metadata": {},
   "outputs": [],
   "source": []
  },
  {
   "cell_type": "markdown",
   "metadata": {},
   "source": [
    "shrnutí"
   ]
  },
  {
   "cell_type": "code",
   "execution_count": null,
   "metadata": {},
   "outputs": [],
   "source": []
  }
 ],
 "metadata": {
  "kernelspec": {
   "display_name": "Python 3",
   "language": "python",
   "name": "python3"
  },
  "language_info": {
   "codemirror_mode": {
    "name": "ipython",
    "version": 3
   },
   "file_extension": ".py",
   "mimetype": "text/x-python",
   "name": "python",
   "nbconvert_exporter": "python",
   "pygments_lexer": "ipython3",
   "version": "3.11.9"
  }
 },
 "nbformat": 4,
 "nbformat_minor": 2
}
